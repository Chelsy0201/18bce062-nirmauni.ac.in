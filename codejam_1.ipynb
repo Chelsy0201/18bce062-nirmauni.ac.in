{
 "cells": [
  {
   "cell_type": "code",
   "execution_count": 1,
   "metadata": {},
   "outputs": [
    {
     "name": "stdout",
     "output_type": "stream",
     "text": [
      "1\n",
      "3\n",
      "1 1 1\n",
      "2 4 5\n",
      "1 3 4\n",
      "case #1: 9 1 1\n"
     ]
    }
   ],
   "source": [
    "import numpy as np\n",
    "t =int(input())\n",
    "for x in range(t):\n",
    "    m=[]\n",
    "    t=[]\n",
    "    r=0\n",
    "    c=0\n",
    "    sum_d=0\n",
    "    size=int(input())\n",
    "    for s in range(size):\n",
    "        l=list(map(int,input().split()))\n",
    "        m.append(l)\n",
    "    matrix=np.array(m)\n",
    "   # print(matrix)\n",
    "    #row=np.split(matrix,1)\n",
    "    for i in range(len(matrix)):\n",
    "        #print(matrix[i])\n",
    "        set_r=set(matrix[i])\n",
    "        if(len(set_r)!=len(matrix[i])):\n",
    "            r=r+1\n",
    "        else:\n",
    "            continue\n",
    "    #print(r)\n",
    "    for i in range(len(matrix)):\n",
    "        for j in range(len(matrix)):\n",
    "            if(i==j):\n",
    "                sum_d+=matrix[i][j]\n",
    "            else:\n",
    "                continue\n",
    "    matrix2=matrix.transpose()\n",
    "    for i in range(len(matrix2)):\n",
    "        set_c=set(matrix2[i])\n",
    "        if(len(set_c)!=len(matrix2[i])):\n",
    "            c=c+1\n",
    "        else:\n",
    "            continue\n",
    "    print(\"case #{}: {} {} {}\".format(x+1,sum_d,r,c))\n",
    "    #print(c)\n",
    "    #print(sum_d)\n",
    "    "
   ]
  },
  {
   "cell_type": "code",
   "execution_count": null,
   "metadata": {},
   "outputs": [],
   "source": []
  }
 ],
 "metadata": {
  "kernelspec": {
   "display_name": "Python 3",
   "language": "python",
   "name": "python3"
  },
  "language_info": {
   "codemirror_mode": {
    "name": "ipython",
    "version": 3
   },
   "file_extension": ".py",
   "mimetype": "text/x-python",
   "name": "python",
   "nbconvert_exporter": "python",
   "pygments_lexer": "ipython3",
   "version": "3.7.4"
  }
 },
 "nbformat": 4,
 "nbformat_minor": 2
}

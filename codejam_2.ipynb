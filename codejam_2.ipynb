{
 "cells": [
  {
   "cell_type": "code",
   "execution_count": 1,
   "metadata": {},
   "outputs": [
    {
     "name": "stdout",
     "output_type": "stream",
     "text": [
      "1\n",
      "12424556\n",
      "Case #1: (1(2((4))2((4(55(6))))))\n"
     ]
    }
   ],
   "source": [
    "t=int(input())\n",
    "for z in range(t):\n",
    "    diff=0\n",
    "    \n",
    "    s=input()\n",
    "    r=''\n",
    "    count=int(s[0])  \n",
    "    for i in range(count):\n",
    "        r=r+'('\n",
    "    if(len(s)==1):\n",
    "        r=r+s[0]\n",
    "        \n",
    "    else:\n",
    "        for j in range(len(s)-1):\n",
    "            diff=int(s[j+1])-int(s[j])\n",
    "            #print(diff)\n",
    "            count=count+diff\n",
    "            if(diff>0):\n",
    "                r=r+s[j]\n",
    "                for y in range(abs(diff)):\n",
    "                    r=r+'('\n",
    "                    #print(r)\n",
    "\n",
    "            elif(diff<0):\n",
    "                r=r+s[j]\n",
    "                for y in range(abs(diff)):\n",
    "                    r=r+')'\n",
    "                    #print(r)\n",
    "\n",
    "            else:\n",
    "                r=r+s[j]\n",
    "                continue\n",
    "        r=r+s[j+1]\n",
    "    for x in range(count):\n",
    "        r=r+')'\n",
    "    print(\"Case #{}: {}\".format(z+1,r))\n",
    "    #print(count)\n",
    "    \n",
    "        \n",
    "    "
   ]
  },
  {
   "cell_type": "code",
   "execution_count": null,
   "metadata": {},
   "outputs": [],
   "source": []
  }
 ],
 "metadata": {
  "kernelspec": {
   "display_name": "Python 3",
   "language": "python",
   "name": "python3"
  },
  "language_info": {
   "codemirror_mode": {
    "name": "ipython",
    "version": 3
   },
   "file_extension": ".py",
   "mimetype": "text/x-python",
   "name": "python",
   "nbconvert_exporter": "python",
   "pygments_lexer": "ipython3",
   "version": "3.7.4"
  }
 },
 "nbformat": 4,
 "nbformat_minor": 2
}

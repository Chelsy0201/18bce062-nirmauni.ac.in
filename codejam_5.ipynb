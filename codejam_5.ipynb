{
 "cells": [
  {
   "cell_type": "code",
   "execution_count": 8,
   "metadata": {},
   "outputs": [
    {
     "name": "stdout",
     "output_type": "stream",
     "text": [
      "2\n",
      "2 2\n",
      "Case #1: POSSIBLE\n",
      "1 2 \n",
      "2 1 \n",
      "5 23\n",
      "Case #2: POSSIBLE\n",
      "4 1 2 3 5 \n",
      "1 5 3 4 2 \n",
      "2 4 5 1 3 \n",
      "3 2 4 5 1 \n",
      "5 3 1 2 4 \n"
     ]
    }
   ],
   "source": [
    "import numpy as np\n",
    "row=0\n",
    "col=0\n",
    "m=0\n",
    "def solver(row,col,m,z):\n",
    "    global solved\n",
    "    if (row == n and col == n + 1 and m == k and solved==False): \n",
    "        solved = True;\n",
    "        print(\"Case #{}: POSSIBLE\".format(z))\n",
    "        for i in range(1,n+1): \n",
    "            for j in range(1,n+1):\n",
    "        #print(sqr[1:n+1,1:n+1])\n",
    "                print(sqr[i][j],end=\" \")\n",
    "            print()\n",
    "        #print(row_safe)\n",
    "        #print(col_safe)\n",
    "        return\n",
    "    \n",
    "    elif (row > n):\n",
    "        #print(row_safe)\n",
    "        #print(col_safe)\n",
    "        return\n",
    "    elif (col > n): \n",
    "        solver(row + 1, 1, m,z)\n",
    "        #print(row_safe)\n",
    "        #print(col_safe)\n",
    "                \n",
    "\n",
    "    for i in range(1,n+1):\n",
    "        if(solved==False):\n",
    "            if (row_safe[row][i]==False and col_safe[col][i]==False):\n",
    "                row_safe[row][i] = col_safe[col][i] = True\n",
    "                if (row == col):\n",
    "                    m += i\n",
    "\n",
    "                sqr[row][col] = i\n",
    "                solver(row, col + 1, m,z)\n",
    "                #print(row_safe)\n",
    "                #print(col_safe)\n",
    "                row_safe[row][i] = col_safe[col][i] = False\n",
    "                if (row == col):\n",
    "                    m -= i;\n",
    "\n",
    "                sqr[row][col] = 0\n",
    "\n",
    "    \n",
    "\n",
    "\n",
    "t=int(input())\n",
    "for z in range(1,t+1):\n",
    "    sqr=np.zeros((60,60),dtype=int)\n",
    "    row_safe=np.zeros((60,60),dtype=bool)\n",
    "    col_safe=np.zeros((60,60),dtype=bool)\n",
    "    solved= False\n",
    "    n,k=map(int,input().split())\n",
    "    row=0\n",
    "    col=0\n",
    "    m=0\n",
    "    solver(1, 1, 0,z)\n",
    "    if (solved==False):\n",
    "        print(\"Case #{}: IMPOSSIBLE\".format(z))\n",
    "\n",
    "    solved = False\n",
    "    \n",
    "\n",
    "    "
   ]
  },
  {
   "cell_type": "markdown",
   "metadata": {},
   "source": []
  }
 ],
 "metadata": {
  "kernelspec": {
   "display_name": "Python 3",
   "language": "python",
   "name": "python3"
  },
  "language_info": {
   "codemirror_mode": {
    "name": "ipython",
    "version": 3
   },
   "file_extension": ".py",
   "mimetype": "text/x-python",
   "name": "python",
   "nbconvert_exporter": "python",
   "pygments_lexer": "ipython3",
   "version": "3.7.4"
  }
 },
 "nbformat": 4,
 "nbformat_minor": 2
}
